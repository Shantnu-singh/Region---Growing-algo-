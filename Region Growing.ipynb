{
 "cells": [
  {
   "cell_type": "code",
   "execution_count": 37,
   "id": "6d541be0-de70-4be2-b42e-e79f8e28b5a9",
   "metadata": {},
   "outputs": [
    {
     "data": {
      "text/plain": [
       "(361, 380, 3)"
      ]
     },
     "execution_count": 37,
     "metadata": {},
     "output_type": "execute_result"
    }
   ],
   "source": [
    "import cv2\n",
    "import numpy as np\n",
    "\n",
    "img = cv2.imread(\"test_img.jpg\")\n",
    "\n",
    "cv2.imshow(\"window\" , img)\n",
    "cv2.waitKey(0)\n",
    "img.shape"
   ]
  },
  {
   "cell_type": "code",
   "execution_count": 22,
   "id": "f5341c21",
   "metadata": {},
   "outputs": [],
   "source": [
    "# function to show the whole list of pictures\n",
    "def output(list):\n",
    "    img_blue , img_green , img_red  = list[0].copy() , list[1].copy() , list[2].copy()\n",
    "    cv2.putText(img_blue , \"Blue channel\" , (20 , 360) , 1, 3 , (0,255,255) , 2)\n",
    "    cv2.putText(img_green , \"Green channel\" , (20 , 360) , 1, 3 , (0,0,0) , 2)\n",
    "    cv2.putText(img_red , \"Red channel\" , (50 , 360) , 1, 3 , (0,0,0) , 2)\n",
    "    stack = np.hstack((img_blue , img_green , img_red))\n",
    "    return stack"
   ]
  },
  {
   "cell_type": "code",
   "execution_count": 23,
   "id": "b0ce9096",
   "metadata": {},
   "outputs": [
    {
     "data": {
      "text/plain": [
       "-1"
      ]
     },
     "execution_count": 23,
     "metadata": {},
     "output_type": "execute_result"
    }
   ],
   "source": [
    "# separte into 3 channels\n",
    "colorList = np.array([img[:,:,0] , img[:,:,1] , img[:,:,2]])\n",
    "\n",
    "\n",
    "# outputing the all 3 channel \n",
    "\n",
    "colored_stack = output(colorList)\n",
    "cv2.imshow(\"window\" , colored_stack)\n",
    "cv2.waitKey(0)\n"
   ]
  },
  {
   "cell_type": "code",
   "execution_count": 24,
   "id": "2d93bb7b",
   "metadata": {},
   "outputs": [],
   "source": [
    "# applying 1st order derivative to find (Sobel)\n",
    "itt = 0\n",
    "edgeImgList = []\n",
    "edgeDirList = [0 , 0 , 0]\n",
    "\n",
    "while itt < 3:\n",
    "    sobelX = cv2.Sobel(colorList[itt] , -1 , 1 , 0)\n",
    "    sobelY = cv2.Sobel(colorList[itt] ,-1 , 0 , 1 )\n",
    "    edgeImgList.append(cv2.addWeighted(sobelX , 0.5 , sobelY ,0.5 , 0 ))\n",
    "    itt += 1\n",
    "\n",
    "# output(list=edgeImgList)    \n",
    "\n",
    "sobel_stack = np.hstack((edgeImgList[0] , edgeImgList[1] , edgeImgList[1]))\n",
    "cv2.imshow(\"win\" , sobel_stack)\n",
    "cv2.waitKey(0)\n",
    "\n",
    "templist = edgeImgList\n"
   ]
  },
  {
   "cell_type": "code",
   "execution_count": 28,
   "id": "4395e97a",
   "metadata": {},
   "outputs": [
    {
     "data": {
      "text/plain": [
       "-1"
      ]
     },
     "execution_count": 28,
     "metadata": {},
     "output_type": "execute_result"
    }
   ],
   "source": [
    "# applying thresholding on given cannels\n",
    "itt = 0\n",
    "\n",
    "while itt < 3:\n",
    "    for x in range(0 , colorList[0].shape[0]):\n",
    "        for y in range(0 , colorList[1].shape[1]):\n",
    "            if templist[itt][x][y] > 42:\n",
    "                templist[itt][x][y] = 255\n",
    "            else:\n",
    "                templist[itt][x][y] = 0\n",
    "    itt += 1\n",
    "\n",
    "temp_stack = output(templist)\n",
    "stack = np.vstack((sobel_stack,temp_stack))\n",
    "cv2.imshow(\"win\" , stack)\n",
    "cv2.waitKey(0)\n"
   ]
  },
  {
   "cell_type": "code",
   "execution_count": 29,
   "id": "e718f5be",
   "metadata": {},
   "outputs": [],
   "source": [
    "# applying 1st order derivative to find (Canny)\n",
    "itt = 0\n",
    "cannyList = []\n",
    "\n",
    "while itt < 3:\n",
    "    cannyList.append(cv2.Canny(colorList[0], 50, 100))\n",
    "    itt += 1\n",
    "\n",
    "canny_stack = output(list=cannyList)    \n",
    "\n"
   ]
  },
  {
   "cell_type": "code",
   "execution_count": 30,
   "id": "f58c929c",
   "metadata": {},
   "outputs": [
    {
     "data": {
      "text/plain": [
       "-1"
      ]
     },
     "execution_count": 30,
     "metadata": {},
     "output_type": "execute_result"
    }
   ],
   "source": [
    "# compare sobel and canny\n",
    "\n",
    "stack = np.vstack((sobel_stack,canny_stack))\n",
    "cv2.imshow(\"win\" , stack)\n",
    "cv2.waitKey(0)"
   ]
  },
  {
   "cell_type": "code",
   "execution_count": 38,
   "id": "47ad4a52",
   "metadata": {},
   "outputs": [],
   "source": [
    "# Event lishner to find coordinates of seed point\n",
    "\n",
    "seedPoint = []\n",
    "def  click_event(event , x , y , flags , params):\n",
    "\n",
    "    if event == cv2.EVENT_LBUTTONDOWN:\n",
    "\n",
    "        print(x , \" \" , y)\n",
    "        seedPoint.append(x)\n",
    "        seedPoint.append(y)\n",
    "    \n",
    "\n"
   ]
  },
  {
   "cell_type": "code",
   "execution_count": 39,
   "id": "2f9b125d",
   "metadata": {},
   "outputs": [],
   "source": [
    "# function to find 8-n neighbour of give pixel\n",
    "\n",
    "def n_8(x, y , shape):\n",
    "    n8List = []\n",
    "    maxRangeX = shape[0]\n",
    "    maxRangeY = shape[1]\n",
    "\n",
    "    if x-1 > 0 and y-1>0:\n",
    "        n8List.append((x-1 , y-1))\n",
    "    if x-1> 0:\n",
    "        n8List.append((x-1 , y))\n",
    "    if y-1>0 :\n",
    "        n8List.append((x, y-1))\n",
    "    if x+1 < maxRangeX :\n",
    "        n8List.append((x+1 , y))\n",
    "    if y+1 < maxRangeY :\n",
    "        n8List.append((x , y+1))\n",
    "    if x+1 < maxRangeX and y+1 < maxRangeY:\n",
    "        n8List.append((x+1 , y+1))\n",
    "    if x-1 > 0 and y+1 < maxRangeY:\n",
    "        n8List.append((x-1 , y+1))\n",
    "    if x+1 < maxRangeX and y-1 >0:\n",
    "        n8List.append((x+1 , y-1)) \n",
    "\n",
    "    return n8List\n",
    "\n",
    "\n",
    "    "
   ]
  },
  {
   "cell_type": "code",
   "execution_count": 40,
   "id": "9af501d3",
   "metadata": {},
   "outputs": [],
   "source": [
    "# function for region growing threshold = 10\n",
    "\n",
    "def region_grow(img , seedList):\n",
    "    seedPoint = []\n",
    "    outputImg = np.zeros_like(img)\n",
    "    seedPoint.append((seedList[0] , seedList[1]))\n",
    "    alreadyVisited = []\n",
    "    print(seedList[0])\n",
    "\n",
    "    while(len(seedPoint) > 0):\n",
    "        pixel = seedPoint[0]\n",
    "        outputImg[pixel[0] , pixel[1]] = 255\n",
    "        for corr in n_8(pixel[0] , pixel[1] , img.shape):\n",
    "            if outputImg[corr[0] , corr[1]] != 0:\n",
    "                outputImg[corr[0] , corr[1]] = 255\n",
    "                if not corr in alreadyVisited:\n",
    "                    seedPoint.append(corr)\n",
    "                alreadyVisited.append(corr)\n",
    "        seedPoint.pop(0) \n",
    "        # cv2.imshow(\"porgress\" , outputImg)\n",
    "        # cv2.waitKey(1)\n",
    "    return outputImg   \n",
    "\n",
    "\n",
    "        \n"
   ]
  },
  {
   "cell_type": "code",
   "execution_count": 43,
   "id": "18d70f21",
   "metadata": {},
   "outputs": [],
   "source": [
    "def is_simliar(pix , neighbour , threshold):\n",
    "    return abs(int(pix) - int(neighbour)) <= threshold\n",
    "\n",
    "def region_growing(img , seeds , theshold):\n",
    "\n",
    "    outImg = np.zeros_like(img)\n",
    "\n",
    "    region  = set(seeds)\n",
    "\n",
    "    while seeds:\n",
    "\n",
    "        seed = seeds.pop()\n",
    "\n",
    "        x, y = seed[0] , seed[1]\n",
    "\n",
    "        neighbors = n_8(x , y , img.shape)\n",
    "\n",
    "        for nx , ny in neighbors:\n",
    "\n",
    "            if is_simliar(img[x , y] , img[nx , ny] , theshold) and (nx , ny) not in region:\n",
    "                region.add((nx , ny))\n",
    "                outImg[nx , ny] = 255\n",
    "                seeds.append((nx , ny))\n",
    "    \n",
    "    return outImg\n",
    "\n",
    "\n",
    "    \n"
   ]
  },
  {
   "cell_type": "code",
   "execution_count": 44,
   "id": "0c2855d4",
   "metadata": {},
   "outputs": [
    {
     "name": "stdout",
     "output_type": "stream",
     "text": [
      "189   160\n",
      "189   160\n",
      "[(174, 188), (174, 189), (175, 188), (176, 189), (175, 190), (176, 190), (174, 190), (176, 188)]\n"
     ]
    },
    {
     "ename": "TypeError",
     "evalue": "'int' object is not subscriptable",
     "output_type": "error",
     "traceback": [
      "\u001b[1;31m---------------------------------------------------------------------------\u001b[0m",
      "\u001b[1;31mTypeError\u001b[0m                                 Traceback (most recent call last)",
      "Cell \u001b[1;32mIn[44], line 9\u001b[0m\n\u001b[0;32m      6\u001b[0m abc \u001b[38;5;241m=\u001b[39m n_8(seedPoint[\u001b[38;5;241m0\u001b[39m] ,seedPoint[\u001b[38;5;241m1\u001b[39m], stack\u001b[38;5;241m.\u001b[39mshape)\n\u001b[0;32m      7\u001b[0m \u001b[38;5;28mprint\u001b[39m(abc)\n\u001b[1;32m----> 9\u001b[0m out \u001b[38;5;241m=\u001b[39m \u001b[43mregion_growing\u001b[49m\u001b[43m(\u001b[49m\u001b[43mcolorList\u001b[49m\u001b[43m[\u001b[49m\u001b[38;5;241;43m0\u001b[39;49m\u001b[43m]\u001b[49m\u001b[43m \u001b[49m\u001b[43m,\u001b[49m\u001b[43m \u001b[49m\u001b[43mseedPoint\u001b[49m\u001b[43m \u001b[49m\u001b[43m,\u001b[49m\u001b[43m \u001b[49m\u001b[38;5;241;43m10\u001b[39;49m\u001b[43m)\u001b[49m\n\u001b[0;32m     10\u001b[0m cv2\u001b[38;5;241m.\u001b[39mimshow(\u001b[38;5;124m\"\u001b[39m\u001b[38;5;124mwindow\u001b[39m\u001b[38;5;124m\"\u001b[39m , out)\n\u001b[0;32m     11\u001b[0m cv2\u001b[38;5;241m.\u001b[39mwaitKey(\u001b[38;5;241m0\u001b[39m)\n",
      "Cell \u001b[1;32mIn[43], line 14\u001b[0m, in \u001b[0;36mregion_growing\u001b[1;34m(img, seeds, theshold)\u001b[0m\n\u001b[0;32m     10\u001b[0m \u001b[38;5;28;01mwhile\u001b[39;00m seeds:\n\u001b[0;32m     12\u001b[0m     seed \u001b[38;5;241m=\u001b[39m seeds\u001b[38;5;241m.\u001b[39mpop()\n\u001b[1;32m---> 14\u001b[0m     x, y \u001b[38;5;241m=\u001b[39m \u001b[43mseed\u001b[49m\u001b[43m[\u001b[49m\u001b[38;5;241;43m0\u001b[39;49m\u001b[43m]\u001b[49m , seed[\u001b[38;5;241m1\u001b[39m]\n\u001b[0;32m     16\u001b[0m     neighbors \u001b[38;5;241m=\u001b[39m n_8(x , y , img\u001b[38;5;241m.\u001b[39mshape)\n\u001b[0;32m     18\u001b[0m     \u001b[38;5;28;01mfor\u001b[39;00m nx , ny \u001b[38;5;129;01min\u001b[39;00m neighbors:\n",
      "\u001b[1;31mTypeError\u001b[0m: 'int' object is not subscriptable"
     ]
    }
   ],
   "source": [
    "cv2.namedWindow(\"win\")\n",
    "cv2.setMouseCallback(\"win\" , click_event)\n",
    "cv2.imshow(\"win\" , cannyList[0])\n",
    "cv2.waitKey(0)\n",
    "# print(seedPoint)\n",
    "abc = n_8(seedPoint[0] ,seedPoint[1], stack.shape)\n",
    "print(abc)\n",
    "\n",
    "out = region_growing(colorList[0] , seedPoint , 10)\n",
    "cv2.imshow(\"window\" , out)\n",
    "cv2.waitKey(0)\n",
    "\n"
   ]
  },
  {
   "cell_type": "code",
   "execution_count": 19,
   "id": "7c4f20e1",
   "metadata": {},
   "outputs": [],
   "source": [
    "# stack = np.vstack((sobel_stack,canny_stack))\n",
    "# cv2.namedWindow(\"win\")\n",
    "# cv2.setMouseCallback(\"win\" , click_event)\n",
    "# cv2.imshow(\"win\" , stack)\n",
    "# cv2.waitKey(0)\n",
    "# print(seedPoint)\n",
    "# print(n_8(seedPoint[0] ,seedPoint[1], stack.shape))\n"
   ]
  },
  {
   "cell_type": "code",
   "execution_count": 34,
   "id": "99f2a4e1",
   "metadata": {},
   "outputs": [
    {
     "name": "stdout",
     "output_type": "stream",
     "text": [
      "15   11\n",
      "[(14, 10), (14, 11), (15, 10), (16, 11), (15, 12), (16, 12), (14, 12), (16, 10)]\n"
     ]
    }
   ],
   "source": [
    "cv2.namedWindow(\"win\")\n",
    "cv2.setMouseCallback(\"win\" , click_event)\n",
    "cv2.imshow(\"win\" , cannyList[0])\n",
    "cv2.waitKey(0)\n",
    "# print(seedPoint)\n",
    "abc = n_8(seedPoint[0] ,seedPoint[1], stack.shape)\n",
    "print(abc)\n",
    "\n"
   ]
  },
  {
   "cell_type": "code",
   "execution_count": 35,
   "id": "1791af29",
   "metadata": {},
   "outputs": [
    {
     "name": "stdout",
     "output_type": "stream",
     "text": [
      "15\n"
     ]
    },
    {
     "data": {
      "text/plain": [
       "-1"
      ]
     },
     "execution_count": 35,
     "metadata": {},
     "output_type": "execute_result"
    }
   ],
   "source": [
    "out = region_grow(colorList[0] , seedPoint)\n",
    "cv2.imshow(\"window\" , out)\n",
    "cv2.waitKey(0)"
   ]
  },
 
  {
   "cell_type": "code",
   "execution_count": null,
   "id": "5800dfec",
   "metadata": {},
   "outputs": [],
   "source": []
  }
 ],
 "metadata": {
  "kernelspec": {
   "display_name": "Python 3",
   "language": "python",
   "name": "python3"
  },
  "language_info": {
   "codemirror_mode": {
    "name": "ipython",
    "version": 3
   },
   "file_extension": ".py",
   "mimetype": "text/x-python",
   "name": "python",
   "nbconvert_exporter": "python",
   "pygments_lexer": "ipython3",
   "version": "3.12.2"
  }
 },
 "nbformat": 4,
 "nbformat_minor": 5
}
