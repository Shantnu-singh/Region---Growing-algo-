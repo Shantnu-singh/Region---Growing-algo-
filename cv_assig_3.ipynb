{
 "cells": [
  {
   "cell_type": "code",
   "execution_count": 2,
   "metadata": {},
   "outputs": [
    {
     "data": {
      "text/plain": [
       "-1"
      ]
     },
     "execution_count": 2,
     "metadata": {},
     "output_type": "execute_result"
    }
   ],
   "source": [
    "import cv2\n",
    "\n",
    "img = cv2.imread(\"test_img.jpg\")\n",
    "cv2.imshow(\"window\" , img)\n",
    "cv2.waitKey(0)"
   ]
  },
  {
   "cell_type": "code",
   "execution_count": 3,
   "metadata": {},
   "outputs": [],
   "source": [
    "def output(img):\n",
    "    cv2.imshow(\"window\" , img)\n",
    "    cv2.waitKey(0)"
   ]
  },
  {
   "cell_type": "code",
   "execution_count": 4,
   "metadata": {},
   "outputs": [],
   "source": [
    "# Appyling Gussian Blur to smooth the image\n",
    "img = cv2.GaussianBlur(img , (5, 5) , 0 )\n",
    "output(img)\n"
   ]
  },
  {
   "cell_type": "code",
   "execution_count": 5,
   "metadata": {},
   "outputs": [],
   "source": [
    "# conveting the image to grayscale to find deivative of thi\n",
    "img = cv2.cvtColor(img , cv2.COLOR_BGR2GRAY)\n",
    "output(img)"
   ]
  },
  {
   "cell_type": "code",
   "execution_count": 12,
   "metadata": {},
   "outputs": [],
   "source": [
    "# appyling Sobel operator to find first and \n",
    "\n",
    "sobelX = cv2.Sobel(img , -1 , 1 ,0)\n",
    "sobelY = cv2.Sobel(img , -1 , 0 ,1)\n",
    "sobelFinal = cv2.addWeighted(sobelX , 0.5 , sobelY , 0.5 , 0)\n",
    "output(sobelFinal)"
   ]
  },
  {
   "cell_type": "code",
   "execution_count": 13,
   "metadata": {},
   "outputs": [],
   "source": [
    "# Applying thresholding to this image \n",
    "\n",
    "thes = 40\n",
    "\n",
    "\n",
    "finalImg = sobelFinal \n",
    "\n",
    "for x in range(0 , img.shape[0] - 1):\n",
    "    for y in range ( 0 , img.shape[1] -1 ):\n",
    "        if sobelFinal[x][y] < thes:\n",
    "            finalImg[x , y] = 0\n",
    "        else:\n",
    "            finalImg[x , y ] = 255\n",
    "\n",
    "output(finalImg)"
   ]
  },
  {
   "cell_type": "code",
   "execution_count": 14,
   "metadata": {},
   "outputs": [],
   "source": [
    "# comapre origianl image to final thresholding image \n",
    "\n",
    "import numpy as np\n",
    "\n",
    "ori_img = cv2.imread(\"test_img.jpg\")\n",
    "ori_img = cv2.cvtColor(ori_img , cv2.COLOR_BGR2GRAY)\n",
    "stack = np.hstack((ori_img , finalImg))\n",
    "output(stack)"
   ]
  },

 "metadata": {
  "kernelspec": {
   "display_name": "Python 3",
   "language": "python",
   "name": "python3"
  },
  "language_info": {
   "codemirror_mode": {
    "name": "ipython",
    "version": 3
   },
   "file_extension": ".py",
   "mimetype": "text/x-python",
   "name": "python",
   "nbconvert_exporter": "python",
   "pygments_lexer": "ipython3",
   "version": "3.12.2"
  }
 },
 "nbformat": 4,
 "nbformat_minor": 2
}
